{
 "cells": [
  {
   "cell_type": "code",
   "execution_count": 20,
   "source": [
    "import json, random, threading\r\n",
    "import paho.mqtt.client as mqtt\r\n",
    "from datetime import datetime\r\n",
    "\r\n",
    "#datetime.datetime.fromtimestamp(int(timestamp)/1000).strftime(\"%Y-%m-%d %H:%M:%S\"))\r\n",
    "\r\n",
    "mqttc = mqtt.Client()\r\n",
    "topic = \"Home/BedRoom/DHT22/Humidity\"\r\n",
    "mqttc.connect(\"test.mosquitto.org\",1883,60)\r\n",
    "\r\n",
    "def on_connect(client, userdata, flags, rc):\r\n",
    "    mqttc.subscribe(topic, 0)\r\n",
    "\r\n",
    "def on_message(mosq, obj, msg):\r\n",
    "    msg_dec = msg.payload.decode(\"utf-8\")\r\n",
    "    msg_clear = json.loads(msg_dec)\r\n",
    "    json_file = {}\r\n",
    "    json_file[\"Sensor_ID\"] = msg_clear[\"Sensor_ID\"] \r\n",
    "    myDate = msg_clear[\"Date\"]\r\n",
    "    json_file[\"Date\"] = datetime.fromtimestamp(int(myDate)/1000).strftime(\"%Y-%m-%d %H:%M:%S\")\r\n",
    "    json_file[\"Humidity\"] = msg_clear[\"Humidity\"]\r\n",
    "    humidity_data = json.dumps(json_file)\r\n",
    "    print(humidity_data)\r\n",
    "\r\n",
    "def on_subscribe(mosq, obj, mid, granted_qos):\r\n",
    "    pass\r\n",
    "\r\n",
    "while True:\r\n",
    "    mqttc.on_message = on_message\r\n",
    "    mqttc.on_connect = on_connect\r\n",
    "    mqttc.on_subscribe = on_subscribe\r\n",
    "    mqttc.loop_forever()\r\n",
    "    mqttc.disconnect()\r\n"
   ],
   "outputs": [
    {
     "output_type": "stream",
     "name": "stdout",
     "text": [
      "{\"Sensor_ID\": \"Dummy-1\", \"Date\": \"2021-08-06 10:00:11\", \"Humidity\": 56.73}\n",
      "{\"Sensor_ID\": \"Dummy-1\", \"Date\": \"2021-08-06 10:00:11\", \"Humidity\": 63.27}\n",
      "{\"Sensor_ID\": \"Dummy-1\", \"Date\": \"2021-08-06 10:00:11\", \"Humidity\": 58.36}\n",
      "{\"Sensor_ID\": \"Dummy-1\", \"Date\": \"2021-08-06 10:00:11\", \"Humidity\": 65.23}\n",
      "{\"Sensor_ID\": \"Dummy-1\", \"Date\": \"2021-08-06 10:00:11\", \"Humidity\": 77.13}\n",
      "{\"Sensor_ID\": \"Dummy-1\", \"Date\": \"2021-08-06 10:00:11\", \"Humidity\": 63.52}\n",
      "{\"Sensor_ID\": \"Dummy-1\", \"Date\": \"2021-08-06 10:00:11\", \"Humidity\": 67.86}\n",
      "{\"Sensor_ID\": \"Dummy-1\", \"Date\": \"2021-08-06 10:00:11\", \"Humidity\": 75.28}\n",
      "{\"Sensor_ID\": \"Dummy-1\", \"Date\": \"2021-08-06 10:00:11\", \"Humidity\": 98.99}\n",
      "{\"Sensor_ID\": \"Dummy-1\", \"Date\": \"2021-08-06 10:00:11\", \"Humidity\": 88.6}\n",
      "{\"Sensor_ID\": \"Dummy-1\", \"Date\": \"2021-08-06 10:00:11\", \"Humidity\": 65.36}\n"
     ]
    },
    {
     "output_type": "error",
     "ename": "KeyboardInterrupt",
     "evalue": "",
     "traceback": [
      "\u001b[1;31m---------------------------------------------------------------------------\u001b[0m",
      "\u001b[1;31mKeyboardInterrupt\u001b[0m                         Traceback (most recent call last)",
      "\u001b[1;32m<ipython-input-20-50ff0da985ac>\u001b[0m in \u001b[0;36m<module>\u001b[1;34m\u001b[0m\n\u001b[0;32m     30\u001b[0m     \u001b[0mmqttc\u001b[0m\u001b[1;33m.\u001b[0m\u001b[0mon_connect\u001b[0m \u001b[1;33m=\u001b[0m \u001b[0mon_connect\u001b[0m\u001b[1;33m\u001b[0m\u001b[1;33m\u001b[0m\u001b[0m\n\u001b[0;32m     31\u001b[0m     \u001b[0mmqttc\u001b[0m\u001b[1;33m.\u001b[0m\u001b[0mon_subscribe\u001b[0m \u001b[1;33m=\u001b[0m \u001b[0mon_subscribe\u001b[0m\u001b[1;33m\u001b[0m\u001b[1;33m\u001b[0m\u001b[0m\n\u001b[1;32m---> 32\u001b[1;33m     \u001b[0mmqttc\u001b[0m\u001b[1;33m.\u001b[0m\u001b[0mloop_forever\u001b[0m\u001b[1;33m(\u001b[0m\u001b[1;33m)\u001b[0m\u001b[1;33m\u001b[0m\u001b[1;33m\u001b[0m\u001b[0m\n\u001b[0m\u001b[0;32m     33\u001b[0m     \u001b[0mmqttc\u001b[0m\u001b[1;33m.\u001b[0m\u001b[0mdisconnect\u001b[0m\u001b[1;33m(\u001b[0m\u001b[1;33m)\u001b[0m\u001b[1;33m\u001b[0m\u001b[1;33m\u001b[0m\u001b[0m\n",
      "\u001b[1;32m~\\AppData\\Local\\Programs\\Python\\Python39\\lib\\site-packages\\paho\\mqtt\\client.py\u001b[0m in \u001b[0;36mloop_forever\u001b[1;34m(self, timeout, max_packets, retry_first_connection)\u001b[0m\n\u001b[0;32m   1777\u001b[0m             \u001b[0mrc\u001b[0m \u001b[1;33m=\u001b[0m \u001b[0mMQTT_ERR_SUCCESS\u001b[0m\u001b[1;33m\u001b[0m\u001b[1;33m\u001b[0m\u001b[0m\n\u001b[0;32m   1778\u001b[0m             \u001b[1;32mwhile\u001b[0m \u001b[0mrc\u001b[0m \u001b[1;33m==\u001b[0m \u001b[0mMQTT_ERR_SUCCESS\u001b[0m\u001b[1;33m:\u001b[0m\u001b[1;33m\u001b[0m\u001b[1;33m\u001b[0m\u001b[0m\n\u001b[1;32m-> 1779\u001b[1;33m                 \u001b[0mrc\u001b[0m \u001b[1;33m=\u001b[0m \u001b[0mself\u001b[0m\u001b[1;33m.\u001b[0m\u001b[0mloop\u001b[0m\u001b[1;33m(\u001b[0m\u001b[0mtimeout\u001b[0m\u001b[1;33m,\u001b[0m \u001b[0mmax_packets\u001b[0m\u001b[1;33m)\u001b[0m\u001b[1;33m\u001b[0m\u001b[1;33m\u001b[0m\u001b[0m\n\u001b[0m\u001b[0;32m   1780\u001b[0m                 \u001b[1;31m# We don't need to worry about locking here, because we've\u001b[0m\u001b[1;33m\u001b[0m\u001b[1;33m\u001b[0m\u001b[1;33m\u001b[0m\u001b[0m\n\u001b[0;32m   1781\u001b[0m                 \u001b[1;31m# either called loop_forever() when in single threaded mode, or\u001b[0m\u001b[1;33m\u001b[0m\u001b[1;33m\u001b[0m\u001b[1;33m\u001b[0m\u001b[0m\n",
      "\u001b[1;32m~\\AppData\\Local\\Programs\\Python\\Python39\\lib\\site-packages\\paho\\mqtt\\client.py\u001b[0m in \u001b[0;36mloop\u001b[1;34m(self, timeout, max_packets)\u001b[0m\n\u001b[0;32m   1165\u001b[0m         \u001b[0mrlist\u001b[0m \u001b[1;33m=\u001b[0m \u001b[1;33m[\u001b[0m\u001b[0mself\u001b[0m\u001b[1;33m.\u001b[0m\u001b[0m_sock\u001b[0m\u001b[1;33m,\u001b[0m \u001b[0mself\u001b[0m\u001b[1;33m.\u001b[0m\u001b[0m_sockpairR\u001b[0m\u001b[1;33m]\u001b[0m\u001b[1;33m\u001b[0m\u001b[1;33m\u001b[0m\u001b[0m\n\u001b[0;32m   1166\u001b[0m         \u001b[1;32mtry\u001b[0m\u001b[1;33m:\u001b[0m\u001b[1;33m\u001b[0m\u001b[1;33m\u001b[0m\u001b[0m\n\u001b[1;32m-> 1167\u001b[1;33m             \u001b[0msocklist\u001b[0m \u001b[1;33m=\u001b[0m \u001b[0mselect\u001b[0m\u001b[1;33m.\u001b[0m\u001b[0mselect\u001b[0m\u001b[1;33m(\u001b[0m\u001b[0mrlist\u001b[0m\u001b[1;33m,\u001b[0m \u001b[0mwlist\u001b[0m\u001b[1;33m,\u001b[0m \u001b[1;33m[\u001b[0m\u001b[1;33m]\u001b[0m\u001b[1;33m,\u001b[0m \u001b[0mtimeout\u001b[0m\u001b[1;33m)\u001b[0m\u001b[1;33m\u001b[0m\u001b[1;33m\u001b[0m\u001b[0m\n\u001b[0m\u001b[0;32m   1168\u001b[0m         \u001b[1;32mexcept\u001b[0m \u001b[0mTypeError\u001b[0m\u001b[1;33m:\u001b[0m\u001b[1;33m\u001b[0m\u001b[1;33m\u001b[0m\u001b[0m\n\u001b[0;32m   1169\u001b[0m             \u001b[1;31m# Socket isn't correct type, in likelihood connection is lost\u001b[0m\u001b[1;33m\u001b[0m\u001b[1;33m\u001b[0m\u001b[1;33m\u001b[0m\u001b[0m\n",
      "\u001b[1;31mKeyboardInterrupt\u001b[0m: "
     ]
    }
   ],
   "metadata": {}
  },
  {
   "cell_type": "code",
   "execution_count": null,
   "source": [
    "import paho.mqtt.client as mqtt\r\n",
    "import json\r\n",
    "import ssl\r\n",
    "\r\n",
    "client = mqtt.Client()\r\n",
    "#client.tls_insecure_set(True)\r\n",
    "client.connect(\"test.mosquitto.com\",1883,60)\r\n",
    "\r\n",
    "def on_connect(client, userdata, flags, rc):\r\n",
    "    print(\"connected with result code\" + str(rc))        \r\n",
    "    #topic = \"netflix/f8:f0:05:d0:fe:c5\"\r\n",
    "    #topic = \"netflix/#\"\r\n",
    "    topic = \"Home/BedRoom/DHT22/Humidity\"\r\n",
    "    client.subscribe(topic, 0)\r\n",
    "\r\n",
    "#def on_log(client, userdata, level, buf):\r\n",
    "#    print(\"log: \", buf)\r\n",
    "\r\n",
    "def on_message(client, userdata, msg):\r\n",
    "    global json_str\r\n",
    "    json_str = json.loads(msg.payload.decode())\r\n",
    "    print(json_str)\r\n",
    "    #print(\"Data: \" + str(json_str))\r\n",
    "    #client.disconnect()\r\n",
    "\r\n",
    "def on_subscribe(mosq, obj, mid, granted_qos):\r\n",
    "    pass\r\n",
    "\r\n",
    "\r\n",
    "#client.connect(\"mqtt.intuitive.works\",1883,60)\r\n",
    "#user = \"Teale\"\r\n",
    "#password = \"TRuhC3jBFr3b\"\r\n",
    "#client.username_pw_set(user, password=password) \r\n",
    "client.on_connect = on_connect\r\n",
    "client.on_message = on_message\r\n",
    "#client.on_log = on_log\r\n",
    "\r\n",
    "client.loop_forever()\r\n",
    "#client.disconnect()"
   ],
   "outputs": [],
   "metadata": {}
  },
  {
   "cell_type": "code",
   "execution_count": null,
   "source": [
    "import datetime\r\n",
    "timestamp = \"1628235491618\"\r\n",
    "print(datetime.datetime.fromtimestamp(int(timestamp)/1000).strftime(\"%Y-%m-%d %H:%M:%S\"))"
   ],
   "outputs": [],
   "metadata": {}
  }
 ],
 "metadata": {
  "orig_nbformat": 4,
  "language_info": {
   "name": "python",
   "version": "3.9.5",
   "mimetype": "text/x-python",
   "codemirror_mode": {
    "name": "ipython",
    "version": 3
   },
   "pygments_lexer": "ipython3",
   "nbconvert_exporter": "python",
   "file_extension": ".py"
  },
  "kernelspec": {
   "name": "python3",
   "display_name": "Python 3.9.5 64-bit"
  },
  "interpreter": {
   "hash": "6793a61479509a3c850818d64af39206d64b01d2bb8eaacde6a2c555e9fe3e72"
  }
 },
 "nbformat": 4,
 "nbformat_minor": 2
}