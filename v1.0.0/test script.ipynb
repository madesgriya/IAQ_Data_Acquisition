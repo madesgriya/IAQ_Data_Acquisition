{
 "cells": [
  {
   "cell_type": "code",
   "execution_count": 20,
   "metadata": {},
   "outputs": [
    {
     "name": "stdout",
     "output_type": "stream",
     "text": [
      "connected with result code5\n",
      "connected with result code0\n",
      "{\n",
      "    \"organizationName\": \"EEM\",\n",
      "    \"applicationID\": \"22\",\n",
      "    \"applicationName\": \"RS485-Bridge\",\n",
      "    \"nodeName\": \"080000003000010b\",\n",
      "    \"serialNumber\": \"\",\n",
      "    \"devEUI\": \"080000003000010b\",\n",
      "    \"reportTime\": \"2021-06-01T10:44:44.917235942+08:00\",\n",
      "    \"rxInfo\": [\n",
      "        {\n",
      "            \"mac\": \"7276ff000b030cda\",\n",
      "            \"rssi\": -98,\n",
      "            \"loRaSNR\": 11,\n",
      "            \"name\": \"kerlinkAmericanSchool\",\n",
      "            \"latitude\": 1.42607982682032,\n",
      "            \"longitude\": 103.775482177734,\n",
      "            \"altitude\": 0\n",
      "        }\n",
      "    ],\n",
      "    \"txInfo\": {\n",
      "        \"frequency\": 923700000,\n",
      "        \"dataRate\": {\n",
      "            \"modulation\": \"LORA\",\n",
      "            \"bandwidth\": 125,\n",
      "            \"spreadFactor\": 8\n",
      "        },\n",
      "        \"adr\": false,\n",
      "        \"codeRate\": \"4/5\"\n",
      "    },\n",
      "    \"fCnt\": 271,\n",
      "    \"fPort\": 102,\n",
      "    \"data\": \"CAAMZB4AEiAFJgFMXY8khw==\",\n",
      "    \"subMeter\": [\n",
      "        {\n",
      "            \"applicationID\": \"162\",\n",
      "            \"applicationName\": \"Janitza_96RM\",\n",
      "            \"serialNumber\": \"010b_Janitza96RM_01\",\n",
      "            \"report\": [\n",
      "                {\n",
      "                    \"id\": 1,\n",
      "                    \"name\": \"ActiveEnergy(kWh)\",\n",
      "                    \"value\": \"58080.796\"\n",
      "                }\n",
      "            ]\n",
      "        }\n",
      "    ],\n",
      "    \"meter\": {\n",
      "        \"meterReading\": \"N/A\",\n",
      "        \"prepayment\": \"N/A\",\n",
      "        \"pulseCount\": \"N/A\",\n",
      "        \"uptime\": \"N/A\",\n",
      "        \"alarm\": \"0\",\n",
      "        \"valve\": \"close\",\n",
      "        \"battery\": \"100%\",\n",
      "        \"voltage\": \"N/A\",\n",
      "        \"exReading\": []\n",
      "    }\n",
      "}\n"
     ]
    },
    {
     "data": {
      "text/plain": [
       "7"
      ]
     },
     "execution_count": 20,
     "metadata": {},
     "output_type": "execute_result"
    }
   ],
   "source": [
    "#Take the above node name and send an MQTT Subscribe Request\n",
    "import paho.mqtt.client as mqtt\n",
    "import json\n",
    "\n",
    "def on_connect(client, userdata, flags, rc):\n",
    "    print(\"connected with result code\" + str(rc))        \n",
    "    topic = \"organization/EEM/application/RS485-Bridge/node/080000003000010b/rx\"\n",
    "\n",
    "    client.subscribe(topic)\n",
    "    \n",
    "def on_message(client, userdata, msg):\n",
    "    global json_str\n",
    "    json_str = json.loads(msg.payload.decode())\n",
    "    json_cor = json.dumps(json_str, indent=4, sort_keys=False)\n",
    "    print(json_cor)\n",
    "    #print(\"Data: \" + str(json_str))\n",
    "    client.disconnect()\n",
    "\n",
    "client = mqtt.Client()\n",
    "client.connect(\"asia.srv.sindconiot.com\",1883,60)\n",
    "user = \"_APP_teale\"\n",
    "password = \"fVWhGmcLfZl1\"\n",
    "client.username_pw_set(user, password=password) \n",
    "client.on_connect = on_connect\n",
    "client.on_message = on_message\n",
    "\n",
    "client.loop_forever()\n",
    "#client.disconnect()"
   ]
  },
  {
   "cell_type": "code",
   "execution_count": 23,
   "metadata": {},
   "outputs": [
    {
     "name": "stdout",
     "output_type": "stream",
     "text": [
      "[\n",
      "    {\n",
      "        \"applicationID\": \"162\",\n",
      "        \"applicationName\": \"Janitza_96RM\",\n",
      "        \"serialNumber\": \"010b_Janitza96RM_01\",\n",
      "        \"report\": [\n",
      "            {\n",
      "                \"id\": 1,\n",
      "                \"name\": \"ActiveEnergy(kWh)\",\n",
      "                \"value\": \"58080.796\"\n",
      "            }\n",
      "        ]\n",
      "    }\n",
      "]\n",
      "\n",
      "Data Type for the extracted Payload is: <class 'list'>\n"
     ]
    }
   ],
   "source": [
    "data = json_str[\"subMeter\"]\n",
    "print(json.dumps(data, indent=4))\n",
    "print(\"\\nData Type for the extracted Payload is:\",type(data))"
   ]
  },
  {
   "cell_type": "code",
   "execution_count": 26,
   "metadata": {},
   "outputs": [
    {
     "name": "stdout",
     "output_type": "stream",
     "text": [
      "{\n",
      "    \"applicationID\": \"162\",\n",
      "    \"applicationName\": \"Janitza_96RM\",\n",
      "    \"serialNumber\": \"010b_Janitza96RM_01\",\n",
      "    \"report\": [\n",
      "        {\n",
      "            \"id\": 1,\n",
      "            \"name\": \"ActiveEnergy(kWh)\",\n",
      "            \"value\": \"58080.796\"\n",
      "        }\n",
      "    ]\n",
      "}\n"
     ]
    }
   ],
   "source": [
    "for items in data:\n",
    "    print(json.dumps(items, indent=4))"
   ]
  },
  {
   "cell_type": "code",
   "execution_count": 27,
   "metadata": {},
   "outputs": [
    {
     "data": {
      "text/plain": [
       "{'applicationID': '162',\n",
       " 'applicationName': 'Janitza_96RM',\n",
       " 'serialNumber': '010b_Janitza96RM_01',\n",
       " 'report': [{'id': 1, 'name': 'ActiveEnergy(kWh)', 'value': '58080.796'}]}"
      ]
     },
     "execution_count": 27,
     "metadata": {},
     "output_type": "execute_result"
    }
   ],
   "source": [
    "data[0]"
   ]
  },
  {
   "cell_type": "code",
   "execution_count": 29,
   "metadata": {},
   "outputs": [
    {
     "name": "stdout",
     "output_type": "stream",
     "text": [
      "010b_Janitza96RM_01\n"
     ]
    }
   ],
   "source": [
    "#This script below works if the Meter Type is EPM-07S-EnergyMeter\n",
    "for k,v in data[0].items():\n",
    "    #print(k,':',v)\n",
    "    if(k==\"serialNumber\"):\n",
    "        print(v)\n",
    "        continue\n",
    "    if(k==\"applicationName\"):\n",
    "        if(v==\"1165_PMC-509_01\"):\n",
    "            print(v)\n",
    "            continue\n",
    "    if(k == \"report\"):\n",
    "        report = v\n",
    "        for items in report:\n",
    "            #print(items['name'],\"\\n\")\n",
    "            if(items['name']==\"VM2_kWh\"):\n",
    "                print(\"The value of the Energy Meter is:\",items['value'])\n",
    "            elif(items['name']==\"VM3_kWh\"):\n",
    "                print(\"The value of the Energy Meter is:\",items['value'])\n",
    "            elif(items['name']==\"VM4_kWh\"):\n",
    "                print(\"The value of the Energy Meter is:\",items['value'])\n",
    "                break\n",
    "    #Return the Meter name"
   ]
  },
  {
   "cell_type": "code",
   "execution_count": 46,
   "metadata": {},
   "outputs": [
    {
     "data": {
      "text/plain": [
       "4"
      ]
     },
     "execution_count": 46,
     "metadata": {},
     "output_type": "execute_result"
    }
   ],
   "source": [
    "txt=\"{'id': 1, {'device_data': 123}, 'created_at': '2020-04-03'}{'id': 2, {'device_data': 123}, 'created_at': '2020-04-03'}{'id': 2, {'device_data': 123}, 'created_at': '2020-04-03'}{'id': 2, {'device_data': 123}, 'created_at': '2020-04-03'}\"\n",
    "\n",
    "records=txt.split('}{')\n",
    "\n",
    "len(records)\n"
   ]
  },
  {
   "cell_type": "code",
   "execution_count": 31,
   "metadata": {},
   "outputs": [
    {
     "name": "stdout",
     "output_type": "stream",
     "text": [
      "{'id': '1', 'device_data': '123', 'created_at': '2020-04-03'}\n",
      "{'id': '2', 'device_data': '123', 'created_at': '2020-04-03'}\n",
      "{'id': '2', 'device_data': '123', 'created_at': '2020-04-03'}\n",
      "{'id': '2', 'device_data': '123', 'created_at': '2020-04-03'}\n"
     ]
    }
   ],
   "source": [
    "mydictlist = []\n",
    "for record in records:\n",
    "    # clean up excess brackets and tokens\n",
    "    record = record.replace('{','').replace('}','').replace(\"'\",'')\n",
    "    mydict = dict((k.strip(), v.strip()) for k,v in\n",
    "          (item.split(':') for item in record.split(',')))\n",
    "    mydictlist.append(mydict)\n",
    "\n",
    "print(mydictlist[0])\n",
    "print(mydictlist[1])\n",
    "print(mydictlist[2])\n",
    "print(mydictlist[3])"
   ]
  },
  {
   "cell_type": "code",
   "execution_count": 45,
   "metadata": {},
   "outputs": [
    {
     "data": {
      "text/plain": [
       "\"{'id': 1, {'device_data': 123}, 'created_at': '2020-04-03'}{'id': 2, {'device_data': 123}, 'created_at': '2020-04-03'}{'id': 2, {'device_data': 123}, 'created_at': '2020-04-03'}{'id': 2, {'device_data': 123}, 'created_at': '2020-04-03'}\""
      ]
     },
     "execution_count": 45,
     "metadata": {},
     "output_type": "execute_result"
    }
   ],
   "source": [
    "txt"
   ]
  },
  {
   "cell_type": "code",
   "execution_count": 44,
   "metadata": {},
   "outputs": [
    {
     "data": {
      "text/plain": [
       "[\"{'id': 1, {'device_data': 123}, 'created_at': '2020-04-03'\",\n",
       " \"'id': 2, {'device_data': 123}, 'created_at': '2020-04-03'\",\n",
       " \"'id': 2, {'device_data': 123}, 'created_at': '2020-04-03'\",\n",
       " \"'id': 2, {'device_data': 123}, 'created_at': '2020-04-03'}\"]"
      ]
     },
     "execution_count": 44,
     "metadata": {},
     "output_type": "execute_result"
    }
   ],
   "source": [
    "records"
   ]
  },
  {
   "cell_type": "code",
   "execution_count": 35,
   "metadata": {},
   "outputs": [
    {
     "data": {
      "text/plain": [
       "'id: 2, device_data: 123, created_at: 2020-04-03'"
      ]
     },
     "execution_count": 35,
     "metadata": {},
     "output_type": "execute_result"
    }
   ],
   "source": [
    "record"
   ]
  },
  {
   "cell_type": "code",
   "execution_count": 43,
   "metadata": {},
   "outputs": [
    {
     "data": {
      "text/plain": [
       "['id: 2', ' device_data: 123', ' created_at: 2020-04-03']"
      ]
     },
     "execution_count": 43,
     "metadata": {},
     "output_type": "execute_result"
    }
   ],
   "source": [
    "record.split(',')"
   ]
  },
  {
   "cell_type": "code",
   "execution_count": 36,
   "metadata": {},
   "outputs": [
    {
     "name": "stdout",
     "output_type": "stream",
     "text": [
      "id: 2\n",
      " device_data: 123\n",
      " created_at: 2020-04-03\n"
     ]
    }
   ],
   "source": [
    "for item in record.split(','):\n",
    "    print(item)"
   ]
  },
  {
   "cell_type": "code",
   "execution_count": 41,
   "metadata": {},
   "outputs": [
    {
     "data": {
      "text/plain": [
       "' created_at: 2020-04-03'"
      ]
     },
     "execution_count": 41,
     "metadata": {},
     "output_type": "execute_result"
    }
   ],
   "source": [
    "item"
   ]
  },
  {
   "cell_type": "code",
   "execution_count": 42,
   "metadata": {},
   "outputs": [
    {
     "data": {
      "text/plain": [
       "[' created_at', ' 2020-04-03']"
      ]
     },
     "execution_count": 42,
     "metadata": {},
     "output_type": "execute_result"
    }
   ],
   "source": [
    "item.split(':')"
   ]
  },
  {
   "cell_type": "code",
   "execution_count": 19,
   "metadata": {},
   "outputs": [
    {
     "name": "stdout",
     "output_type": "stream",
     "text": [
      "0\n",
      "1\n",
      "2\n",
      "3\n"
     ]
    }
   ],
   "source": [
    "msg_clear = {'nodeName': 'temperature_dummy', \n",
    "            'reportTime': '07-Jun-2021 11:39:32:653877', \n",
    "            'meterValue': 17.93, \n",
    "            'meterUnit': '°C'}\n",
    "for i in range(0, 4):\n",
    "    print(i)"
   ]
  },
  {
   "cell_type": "code",
   "execution_count": 22,
   "metadata": {},
   "outputs": [
    {
     "name": "stdout",
     "output_type": "stream",
     "text": [
      "%s,%s,%s,%s\n"
     ]
    }
   ],
   "source": [
    "#palceholders = ','.join(str(v) for v in msg_clear.values())\n",
    "placeholders_1 = ','.join(['%s'] * len(msg_clear)) \n",
    "print(placeholders_1)"
   ]
  },
  {
   "cell_type": "code",
   "execution_count": 43,
   "metadata": {},
   "outputs": [
    {
     "ename": "IndexError",
     "evalue": "Replacement index 1 out of range for positional args tuple",
     "output_type": "error",
     "traceback": [
      "\u001b[1;31m---------------------------------------------------------------------------\u001b[0m",
      "\u001b[1;31mIndexError\u001b[0m                                Traceback (most recent call last)",
      "\u001b[1;32m<ipython-input-43-3f92df20788f>\u001b[0m in \u001b[0;36m<module>\u001b[1;34m\u001b[0m\n\u001b[0;32m      5\u001b[0m \u001b[1;31m#temperature_dummy,07-Jun-2021 11:39:32:653877,17.93,°C\u001b[0m\u001b[1;33m\u001b[0m\u001b[1;33m\u001b[0m\u001b[1;33m\u001b[0m\u001b[0m\n\u001b[0;32m      6\u001b[0m \u001b[1;31m#print(\"%s first %s second %d third %s fourth\" % (palceholders))\u001b[0m\u001b[1;33m\u001b[0m\u001b[1;33m\u001b[0m\u001b[1;33m\u001b[0m\u001b[0m\n\u001b[1;32m----> 7\u001b[1;33m \u001b[0mprint\u001b[0m\u001b[1;33m(\u001b[0m\u001b[1;34m\"{0} first {1} second {2} third {3} fourth\"\u001b[0m\u001b[1;33m.\u001b[0m\u001b[0mformat\u001b[0m\u001b[1;33m(\u001b[0m\u001b[0mplaceholders\u001b[0m\u001b[1;33m)\u001b[0m\u001b[1;33m)\u001b[0m\u001b[1;33m\u001b[0m\u001b[1;33m\u001b[0m\u001b[0m\n\u001b[0m",
      "\u001b[1;31mIndexError\u001b[0m: Replacement index 1 out of range for positional args tuple"
     ]
    }
   ],
   "source": [
    "placeholders = ','.join(str(v) for v in msg_clear.values())\n",
    "columns = ', '.join(msg_clear.keys())\n",
    "#placeholders = ','.join(['%s'] * len(msg_clear)) \n",
    "\n",
    "#temperature_dummy,07-Jun-2021 11:39:32:653877,17.93,°C\n",
    "#print(\"%s first %s second %d third %s fourth\" % (palceholders))\n",
    "print(\"{0} first {1} second {2} third {3} fourth\".format(placeholders))"
   ]
  },
  {
   "cell_type": "code",
   "execution_count": 31,
   "metadata": {},
   "outputs": [
    {
     "name": "stdout",
     "output_type": "stream",
     "text": [
      "(1, 7, 3000), (1, 8, 3500), (1, 9, 3900)\n"
     ]
    }
   ],
   "source": [
    "rows = [(1,7,3000), (1,8,3500), (1,9,3900)]\n",
    "values = ', '.join(map(str, rows))\n",
    "print(values)"
   ]
  }
 ],
 "metadata": {
  "kernelspec": {
   "display_name": "Python 3.9.5 64-bit",
   "name": "python395jvsc74a57bd06793a61479509a3c850818d64af39206d64b01d2bb8eaacde6a2c555e9fe3e72"
  },
  "language_info": {
   "codemirror_mode": {
    "name": "ipython",
    "version": 3
   },
   "file_extension": ".py",
   "mimetype": "text/x-python",
   "name": "python",
   "nbconvert_exporter": "python",
   "pygments_lexer": "ipython3",
   "version": "3.9.5"
  },
  "metadata": {
   "interpreter": {
    "hash": "6793a61479509a3c850818d64af39206d64b01d2bb8eaacde6a2c555e9fe3e72"
   }
  },
  "orig_nbformat": 2
 },
 "nbformat": 4,
 "nbformat_minor": 2
}
